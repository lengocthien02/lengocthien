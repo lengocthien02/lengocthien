{
  "nbformat": 4,
  "nbformat_minor": 0,
  "metadata": {
    "colab": {
      "provenance": [],
      "mount_file_id": "1HqrRsW9q7VBriinlDP6RdPx58ngLUmgq",
      "authorship_tag": "ABX9TyPEzl8hb+Y9K/eCVzOnKGZe",
      "include_colab_link": true
    },
    "kernelspec": {
      "name": "python3",
      "display_name": "Python 3"
    },
    "language_info": {
      "name": "python"
    }
  },
  "cells": [
    {
      "cell_type": "markdown",
      "metadata": {
        "id": "view-in-github",
        "colab_type": "text"
      },
      "source": [
        "<a href=\"https://colab.research.google.com/github/lengocthien02/lengocthien/blob/main/b%C3%A0i_t%E1%BA%ADp_nh%C3%B3m_cu%E1%BB%91i_k%E1%BB%B3.ipynb\" target=\"_parent\"><img src=\"https://colab.research.google.com/assets/colab-badge.svg\" alt=\"Open In Colab\"/></a>"
      ]
    },
    {
      "cell_type": "code",
      "source": [
        "from google.colab import drive\n",
        "drive.mount('/content/drive')"
      ],
      "metadata": {
        "colab": {
          "base_uri": "https://localhost:8080/"
        },
        "id": "marUahqusjdJ",
        "outputId": "684a4b01-6121-4071-8c9c-5b3454ce9612"
      },
      "execution_count": null,
      "outputs": [
        {
          "output_type": "stream",
          "name": "stdout",
          "text": [
            "Drive already mounted at /content/drive; to attempt to forcibly remount, call drive.mount(\"/content/drive\", force_remount=True).\n"
          ]
        }
      ]
    },
    {
      "cell_type": "code",
      "execution_count": null,
      "metadata": {
        "colab": {
          "base_uri": "https://localhost:8080/",
          "height": 455
        },
        "id": "U7jXeSoSOCFQ",
        "outputId": "9db1503a-ecdf-40dc-d8d9-450ac919d61f"
      },
      "outputs": [
        {
          "output_type": "execute_result",
          "data": {
            "text/plain": [
              "              Open     High     Low   Close  Volume Currency\n",
              "Date                                                        \n",
              "2000-01-04   281.0   281.00   281.0   282.7       4      USD\n",
              "2000-01-05   283.2   283.20   283.2   281.1      16      USD\n",
              "2000-01-06   281.4   281.40   281.4   281.4       0      USD\n",
              "2000-01-07   281.9   281.90   281.9   281.9       0      USD\n",
              "2000-01-10   281.7   281.70   281.7   281.7       0      USD\n",
              "...            ...      ...     ...     ...     ...      ...\n",
              "2022-04-13  1970.5  1985.80  1966.3  1984.7  132029      USD\n",
              "2022-04-14  1981.6  1984.00  1962.7  1974.9  139424      USD\n",
              "2022-04-18  1978.5  2003.00  1974.4  1986.4  138130      USD\n",
              "2022-04-19  1981.2  1985.10  1945.5  1959.0  181440      USD\n",
              "2022-04-20  1952.1  1957.35  1941.2  1956.3       0      USD\n",
              "\n",
              "[5706 rows x 6 columns]"
            ],
            "text/html": [
              "\n",
              "  <div id=\"df-a23ef313-7e21-4f4e-bef0-3dc3187562eb\">\n",
              "    <div class=\"colab-df-container\">\n",
              "      <div>\n",
              "<style scoped>\n",
              "    .dataframe tbody tr th:only-of-type {\n",
              "        vertical-align: middle;\n",
              "    }\n",
              "\n",
              "    .dataframe tbody tr th {\n",
              "        vertical-align: top;\n",
              "    }\n",
              "\n",
              "    .dataframe thead th {\n",
              "        text-align: right;\n",
              "    }\n",
              "</style>\n",
              "<table border=\"1\" class=\"dataframe\">\n",
              "  <thead>\n",
              "    <tr style=\"text-align: right;\">\n",
              "      <th></th>\n",
              "      <th>Open</th>\n",
              "      <th>High</th>\n",
              "      <th>Low</th>\n",
              "      <th>Close</th>\n",
              "      <th>Volume</th>\n",
              "      <th>Currency</th>\n",
              "    </tr>\n",
              "    <tr>\n",
              "      <th>Date</th>\n",
              "      <th></th>\n",
              "      <th></th>\n",
              "      <th></th>\n",
              "      <th></th>\n",
              "      <th></th>\n",
              "      <th></th>\n",
              "    </tr>\n",
              "  </thead>\n",
              "  <tbody>\n",
              "    <tr>\n",
              "      <th>2000-01-04</th>\n",
              "      <td>281.0</td>\n",
              "      <td>281.00</td>\n",
              "      <td>281.0</td>\n",
              "      <td>282.7</td>\n",
              "      <td>4</td>\n",
              "      <td>USD</td>\n",
              "    </tr>\n",
              "    <tr>\n",
              "      <th>2000-01-05</th>\n",
              "      <td>283.2</td>\n",
              "      <td>283.20</td>\n",
              "      <td>283.2</td>\n",
              "      <td>281.1</td>\n",
              "      <td>16</td>\n",
              "      <td>USD</td>\n",
              "    </tr>\n",
              "    <tr>\n",
              "      <th>2000-01-06</th>\n",
              "      <td>281.4</td>\n",
              "      <td>281.40</td>\n",
              "      <td>281.4</td>\n",
              "      <td>281.4</td>\n",
              "      <td>0</td>\n",
              "      <td>USD</td>\n",
              "    </tr>\n",
              "    <tr>\n",
              "      <th>2000-01-07</th>\n",
              "      <td>281.9</td>\n",
              "      <td>281.90</td>\n",
              "      <td>281.9</td>\n",
              "      <td>281.9</td>\n",
              "      <td>0</td>\n",
              "      <td>USD</td>\n",
              "    </tr>\n",
              "    <tr>\n",
              "      <th>2000-01-10</th>\n",
              "      <td>281.7</td>\n",
              "      <td>281.70</td>\n",
              "      <td>281.7</td>\n",
              "      <td>281.7</td>\n",
              "      <td>0</td>\n",
              "      <td>USD</td>\n",
              "    </tr>\n",
              "    <tr>\n",
              "      <th>...</th>\n",
              "      <td>...</td>\n",
              "      <td>...</td>\n",
              "      <td>...</td>\n",
              "      <td>...</td>\n",
              "      <td>...</td>\n",
              "      <td>...</td>\n",
              "    </tr>\n",
              "    <tr>\n",
              "      <th>2022-04-13</th>\n",
              "      <td>1970.5</td>\n",
              "      <td>1985.80</td>\n",
              "      <td>1966.3</td>\n",
              "      <td>1984.7</td>\n",
              "      <td>132029</td>\n",
              "      <td>USD</td>\n",
              "    </tr>\n",
              "    <tr>\n",
              "      <th>2022-04-14</th>\n",
              "      <td>1981.6</td>\n",
              "      <td>1984.00</td>\n",
              "      <td>1962.7</td>\n",
              "      <td>1974.9</td>\n",
              "      <td>139424</td>\n",
              "      <td>USD</td>\n",
              "    </tr>\n",
              "    <tr>\n",
              "      <th>2022-04-18</th>\n",
              "      <td>1978.5</td>\n",
              "      <td>2003.00</td>\n",
              "      <td>1974.4</td>\n",
              "      <td>1986.4</td>\n",
              "      <td>138130</td>\n",
              "      <td>USD</td>\n",
              "    </tr>\n",
              "    <tr>\n",
              "      <th>2022-04-19</th>\n",
              "      <td>1981.2</td>\n",
              "      <td>1985.10</td>\n",
              "      <td>1945.5</td>\n",
              "      <td>1959.0</td>\n",
              "      <td>181440</td>\n",
              "      <td>USD</td>\n",
              "    </tr>\n",
              "    <tr>\n",
              "      <th>2022-04-20</th>\n",
              "      <td>1952.1</td>\n",
              "      <td>1957.35</td>\n",
              "      <td>1941.2</td>\n",
              "      <td>1956.3</td>\n",
              "      <td>0</td>\n",
              "      <td>USD</td>\n",
              "    </tr>\n",
              "  </tbody>\n",
              "</table>\n",
              "<p>5706 rows × 6 columns</p>\n",
              "</div>\n",
              "      <button class=\"colab-df-convert\" onclick=\"convertToInteractive('df-a23ef313-7e21-4f4e-bef0-3dc3187562eb')\"\n",
              "              title=\"Convert this dataframe to an interactive table.\"\n",
              "              style=\"display:none;\">\n",
              "        \n",
              "  <svg xmlns=\"http://www.w3.org/2000/svg\" height=\"24px\"viewBox=\"0 0 24 24\"\n",
              "       width=\"24px\">\n",
              "    <path d=\"M0 0h24v24H0V0z\" fill=\"none\"/>\n",
              "    <path d=\"M18.56 5.44l.94 2.06.94-2.06 2.06-.94-2.06-.94-.94-2.06-.94 2.06-2.06.94zm-11 1L8.5 8.5l.94-2.06 2.06-.94-2.06-.94L8.5 2.5l-.94 2.06-2.06.94zm10 10l.94 2.06.94-2.06 2.06-.94-2.06-.94-.94-2.06-.94 2.06-2.06.94z\"/><path d=\"M17.41 7.96l-1.37-1.37c-.4-.4-.92-.59-1.43-.59-.52 0-1.04.2-1.43.59L10.3 9.45l-7.72 7.72c-.78.78-.78 2.05 0 2.83L4 21.41c.39.39.9.59 1.41.59.51 0 1.02-.2 1.41-.59l7.78-7.78 2.81-2.81c.8-.78.8-2.07 0-2.86zM5.41 20L4 18.59l7.72-7.72 1.47 1.35L5.41 20z\"/>\n",
              "  </svg>\n",
              "      </button>\n",
              "      \n",
              "  <style>\n",
              "    .colab-df-container {\n",
              "      display:flex;\n",
              "      flex-wrap:wrap;\n",
              "      gap: 12px;\n",
              "    }\n",
              "\n",
              "    .colab-df-convert {\n",
              "      background-color: #E8F0FE;\n",
              "      border: none;\n",
              "      border-radius: 50%;\n",
              "      cursor: pointer;\n",
              "      display: none;\n",
              "      fill: #1967D2;\n",
              "      height: 32px;\n",
              "      padding: 0 0 0 0;\n",
              "      width: 32px;\n",
              "    }\n",
              "\n",
              "    .colab-df-convert:hover {\n",
              "      background-color: #E2EBFA;\n",
              "      box-shadow: 0px 1px 2px rgba(60, 64, 67, 0.3), 0px 1px 3px 1px rgba(60, 64, 67, 0.15);\n",
              "      fill: #174EA6;\n",
              "    }\n",
              "\n",
              "    [theme=dark] .colab-df-convert {\n",
              "      background-color: #3B4455;\n",
              "      fill: #D2E3FC;\n",
              "    }\n",
              "\n",
              "    [theme=dark] .colab-df-convert:hover {\n",
              "      background-color: #434B5C;\n",
              "      box-shadow: 0px 1px 3px 1px rgba(0, 0, 0, 0.15);\n",
              "      filter: drop-shadow(0px 1px 2px rgba(0, 0, 0, 0.3));\n",
              "      fill: #FFFFFF;\n",
              "    }\n",
              "  </style>\n",
              "\n",
              "      <script>\n",
              "        const buttonEl =\n",
              "          document.querySelector('#df-a23ef313-7e21-4f4e-bef0-3dc3187562eb button.colab-df-convert');\n",
              "        buttonEl.style.display =\n",
              "          google.colab.kernel.accessAllowed ? 'block' : 'none';\n",
              "\n",
              "        async function convertToInteractive(key) {\n",
              "          const element = document.querySelector('#df-a23ef313-7e21-4f4e-bef0-3dc3187562eb');\n",
              "          const dataTable =\n",
              "            await google.colab.kernel.invokeFunction('convertToInteractive',\n",
              "                                                     [key], {});\n",
              "          if (!dataTable) return;\n",
              "\n",
              "          const docLinkHtml = 'Like what you see? Visit the ' +\n",
              "            '<a target=\"_blank\" href=https://colab.research.google.com/notebooks/data_table.ipynb>data table notebook</a>'\n",
              "            + ' to learn more about interactive tables.';\n",
              "          element.innerHTML = '';\n",
              "          dataTable['output_type'] = 'display_data';\n",
              "          await google.colab.output.renderOutput(dataTable, element);\n",
              "          const docLink = document.createElement('div');\n",
              "          docLink.innerHTML = docLinkHtml;\n",
              "          element.appendChild(docLink);\n",
              "        }\n",
              "      </script>\n",
              "    </div>\n",
              "  </div>\n",
              "  "
            ]
          },
          "metadata": {},
          "execution_count": 25
        }
      ],
      "source": [
        "import numpy as np\n",
        "import pandas as pd\n",
        "gold = pd.read_csv('/content/drive/MyDrive/Colab Notebooks/gold.csv', index_col =0)\n",
        "gold"
      ]
    },
    {
      "cell_type": "code",
      "source": [
        "gold.head(15)"
      ],
      "metadata": {
        "colab": {
          "base_uri": "https://localhost:8080/",
          "height": 551
        },
        "id": "AViGXYKISfCE",
        "outputId": "7dd785d6-93ee-439e-9aaf-5cc2eb568c7f"
      },
      "execution_count": null,
      "outputs": [
        {
          "output_type": "execute_result",
          "data": {
            "text/plain": [
              "             Open   High    Low  Close  Volume Currency\n",
              "Date                                                   \n",
              "2000-01-04  281.0  281.0  281.0  282.7       4      USD\n",
              "2000-01-05  283.2  283.2  283.2  281.1      16      USD\n",
              "2000-01-06  281.4  281.4  281.4  281.4       0      USD\n",
              "2000-01-07  281.9  281.9  281.9  281.9       0      USD\n",
              "2000-01-10  281.7  281.7  281.7  281.7       0      USD\n",
              "2000-01-11  283.4  283.4  283.4  283.4       0      USD\n",
              "2000-01-12  282.7  282.7  282.7  282.7       0      USD\n",
              "2000-01-13  284.1  284.1  284.1  284.1       0      USD\n",
              "2000-01-14  283.9  283.9  283.9  283.9       0      USD\n",
              "2000-01-18  288.6  288.6  288.6  288.6       0      USD\n",
              "2000-01-19  289.8  289.8  289.8  289.8      17      USD\n",
              "2000-01-20  288.8  288.8  288.8  288.8       0      USD\n",
              "2000-01-21  289.3  289.3  289.3  289.3       0      USD\n",
              "2000-01-24  288.0  288.0  288.0  287.7       1      USD\n",
              "2000-01-25  286.3  286.3  286.3  286.3       0      USD"
            ],
            "text/html": [
              "\n",
              "  <div id=\"df-ed4f1102-9746-48e1-8942-5b29504da9cd\">\n",
              "    <div class=\"colab-df-container\">\n",
              "      <div>\n",
              "<style scoped>\n",
              "    .dataframe tbody tr th:only-of-type {\n",
              "        vertical-align: middle;\n",
              "    }\n",
              "\n",
              "    .dataframe tbody tr th {\n",
              "        vertical-align: top;\n",
              "    }\n",
              "\n",
              "    .dataframe thead th {\n",
              "        text-align: right;\n",
              "    }\n",
              "</style>\n",
              "<table border=\"1\" class=\"dataframe\">\n",
              "  <thead>\n",
              "    <tr style=\"text-align: right;\">\n",
              "      <th></th>\n",
              "      <th>Open</th>\n",
              "      <th>High</th>\n",
              "      <th>Low</th>\n",
              "      <th>Close</th>\n",
              "      <th>Volume</th>\n",
              "      <th>Currency</th>\n",
              "    </tr>\n",
              "    <tr>\n",
              "      <th>Date</th>\n",
              "      <th></th>\n",
              "      <th></th>\n",
              "      <th></th>\n",
              "      <th></th>\n",
              "      <th></th>\n",
              "      <th></th>\n",
              "    </tr>\n",
              "  </thead>\n",
              "  <tbody>\n",
              "    <tr>\n",
              "      <th>2000-01-04</th>\n",
              "      <td>281.0</td>\n",
              "      <td>281.0</td>\n",
              "      <td>281.0</td>\n",
              "      <td>282.7</td>\n",
              "      <td>4</td>\n",
              "      <td>USD</td>\n",
              "    </tr>\n",
              "    <tr>\n",
              "      <th>2000-01-05</th>\n",
              "      <td>283.2</td>\n",
              "      <td>283.2</td>\n",
              "      <td>283.2</td>\n",
              "      <td>281.1</td>\n",
              "      <td>16</td>\n",
              "      <td>USD</td>\n",
              "    </tr>\n",
              "    <tr>\n",
              "      <th>2000-01-06</th>\n",
              "      <td>281.4</td>\n",
              "      <td>281.4</td>\n",
              "      <td>281.4</td>\n",
              "      <td>281.4</td>\n",
              "      <td>0</td>\n",
              "      <td>USD</td>\n",
              "    </tr>\n",
              "    <tr>\n",
              "      <th>2000-01-07</th>\n",
              "      <td>281.9</td>\n",
              "      <td>281.9</td>\n",
              "      <td>281.9</td>\n",
              "      <td>281.9</td>\n",
              "      <td>0</td>\n",
              "      <td>USD</td>\n",
              "    </tr>\n",
              "    <tr>\n",
              "      <th>2000-01-10</th>\n",
              "      <td>281.7</td>\n",
              "      <td>281.7</td>\n",
              "      <td>281.7</td>\n",
              "      <td>281.7</td>\n",
              "      <td>0</td>\n",
              "      <td>USD</td>\n",
              "    </tr>\n",
              "    <tr>\n",
              "      <th>2000-01-11</th>\n",
              "      <td>283.4</td>\n",
              "      <td>283.4</td>\n",
              "      <td>283.4</td>\n",
              "      <td>283.4</td>\n",
              "      <td>0</td>\n",
              "      <td>USD</td>\n",
              "    </tr>\n",
              "    <tr>\n",
              "      <th>2000-01-12</th>\n",
              "      <td>282.7</td>\n",
              "      <td>282.7</td>\n",
              "      <td>282.7</td>\n",
              "      <td>282.7</td>\n",
              "      <td>0</td>\n",
              "      <td>USD</td>\n",
              "    </tr>\n",
              "    <tr>\n",
              "      <th>2000-01-13</th>\n",
              "      <td>284.1</td>\n",
              "      <td>284.1</td>\n",
              "      <td>284.1</td>\n",
              "      <td>284.1</td>\n",
              "      <td>0</td>\n",
              "      <td>USD</td>\n",
              "    </tr>\n",
              "    <tr>\n",
              "      <th>2000-01-14</th>\n",
              "      <td>283.9</td>\n",
              "      <td>283.9</td>\n",
              "      <td>283.9</td>\n",
              "      <td>283.9</td>\n",
              "      <td>0</td>\n",
              "      <td>USD</td>\n",
              "    </tr>\n",
              "    <tr>\n",
              "      <th>2000-01-18</th>\n",
              "      <td>288.6</td>\n",
              "      <td>288.6</td>\n",
              "      <td>288.6</td>\n",
              "      <td>288.6</td>\n",
              "      <td>0</td>\n",
              "      <td>USD</td>\n",
              "    </tr>\n",
              "    <tr>\n",
              "      <th>2000-01-19</th>\n",
              "      <td>289.8</td>\n",
              "      <td>289.8</td>\n",
              "      <td>289.8</td>\n",
              "      <td>289.8</td>\n",
              "      <td>17</td>\n",
              "      <td>USD</td>\n",
              "    </tr>\n",
              "    <tr>\n",
              "      <th>2000-01-20</th>\n",
              "      <td>288.8</td>\n",
              "      <td>288.8</td>\n",
              "      <td>288.8</td>\n",
              "      <td>288.8</td>\n",
              "      <td>0</td>\n",
              "      <td>USD</td>\n",
              "    </tr>\n",
              "    <tr>\n",
              "      <th>2000-01-21</th>\n",
              "      <td>289.3</td>\n",
              "      <td>289.3</td>\n",
              "      <td>289.3</td>\n",
              "      <td>289.3</td>\n",
              "      <td>0</td>\n",
              "      <td>USD</td>\n",
              "    </tr>\n",
              "    <tr>\n",
              "      <th>2000-01-24</th>\n",
              "      <td>288.0</td>\n",
              "      <td>288.0</td>\n",
              "      <td>288.0</td>\n",
              "      <td>287.7</td>\n",
              "      <td>1</td>\n",
              "      <td>USD</td>\n",
              "    </tr>\n",
              "    <tr>\n",
              "      <th>2000-01-25</th>\n",
              "      <td>286.3</td>\n",
              "      <td>286.3</td>\n",
              "      <td>286.3</td>\n",
              "      <td>286.3</td>\n",
              "      <td>0</td>\n",
              "      <td>USD</td>\n",
              "    </tr>\n",
              "  </tbody>\n",
              "</table>\n",
              "</div>\n",
              "      <button class=\"colab-df-convert\" onclick=\"convertToInteractive('df-ed4f1102-9746-48e1-8942-5b29504da9cd')\"\n",
              "              title=\"Convert this dataframe to an interactive table.\"\n",
              "              style=\"display:none;\">\n",
              "        \n",
              "  <svg xmlns=\"http://www.w3.org/2000/svg\" height=\"24px\"viewBox=\"0 0 24 24\"\n",
              "       width=\"24px\">\n",
              "    <path d=\"M0 0h24v24H0V0z\" fill=\"none\"/>\n",
              "    <path d=\"M18.56 5.44l.94 2.06.94-2.06 2.06-.94-2.06-.94-.94-2.06-.94 2.06-2.06.94zm-11 1L8.5 8.5l.94-2.06 2.06-.94-2.06-.94L8.5 2.5l-.94 2.06-2.06.94zm10 10l.94 2.06.94-2.06 2.06-.94-2.06-.94-.94-2.06-.94 2.06-2.06.94z\"/><path d=\"M17.41 7.96l-1.37-1.37c-.4-.4-.92-.59-1.43-.59-.52 0-1.04.2-1.43.59L10.3 9.45l-7.72 7.72c-.78.78-.78 2.05 0 2.83L4 21.41c.39.39.9.59 1.41.59.51 0 1.02-.2 1.41-.59l7.78-7.78 2.81-2.81c.8-.78.8-2.07 0-2.86zM5.41 20L4 18.59l7.72-7.72 1.47 1.35L5.41 20z\"/>\n",
              "  </svg>\n",
              "      </button>\n",
              "      \n",
              "  <style>\n",
              "    .colab-df-container {\n",
              "      display:flex;\n",
              "      flex-wrap:wrap;\n",
              "      gap: 12px;\n",
              "    }\n",
              "\n",
              "    .colab-df-convert {\n",
              "      background-color: #E8F0FE;\n",
              "      border: none;\n",
              "      border-radius: 50%;\n",
              "      cursor: pointer;\n",
              "      display: none;\n",
              "      fill: #1967D2;\n",
              "      height: 32px;\n",
              "      padding: 0 0 0 0;\n",
              "      width: 32px;\n",
              "    }\n",
              "\n",
              "    .colab-df-convert:hover {\n",
              "      background-color: #E2EBFA;\n",
              "      box-shadow: 0px 1px 2px rgba(60, 64, 67, 0.3), 0px 1px 3px 1px rgba(60, 64, 67, 0.15);\n",
              "      fill: #174EA6;\n",
              "    }\n",
              "\n",
              "    [theme=dark] .colab-df-convert {\n",
              "      background-color: #3B4455;\n",
              "      fill: #D2E3FC;\n",
              "    }\n",
              "\n",
              "    [theme=dark] .colab-df-convert:hover {\n",
              "      background-color: #434B5C;\n",
              "      box-shadow: 0px 1px 3px 1px rgba(0, 0, 0, 0.15);\n",
              "      filter: drop-shadow(0px 1px 2px rgba(0, 0, 0, 0.3));\n",
              "      fill: #FFFFFF;\n",
              "    }\n",
              "  </style>\n",
              "\n",
              "      <script>\n",
              "        const buttonEl =\n",
              "          document.querySelector('#df-ed4f1102-9746-48e1-8942-5b29504da9cd button.colab-df-convert');\n",
              "        buttonEl.style.display =\n",
              "          google.colab.kernel.accessAllowed ? 'block' : 'none';\n",
              "\n",
              "        async function convertToInteractive(key) {\n",
              "          const element = document.querySelector('#df-ed4f1102-9746-48e1-8942-5b29504da9cd');\n",
              "          const dataTable =\n",
              "            await google.colab.kernel.invokeFunction('convertToInteractive',\n",
              "                                                     [key], {});\n",
              "          if (!dataTable) return;\n",
              "\n",
              "          const docLinkHtml = 'Like what you see? Visit the ' +\n",
              "            '<a target=\"_blank\" href=https://colab.research.google.com/notebooks/data_table.ipynb>data table notebook</a>'\n",
              "            + ' to learn more about interactive tables.';\n",
              "          element.innerHTML = '';\n",
              "          dataTable['output_type'] = 'display_data';\n",
              "          await google.colab.output.renderOutput(dataTable, element);\n",
              "          const docLink = document.createElement('div');\n",
              "          docLink.innerHTML = docLinkHtml;\n",
              "          element.appendChild(docLink);\n",
              "        }\n",
              "      </script>\n",
              "    </div>\n",
              "  </div>\n",
              "  "
            ]
          },
          "metadata": {},
          "execution_count": 26
        }
      ]
    },
    {
      "cell_type": "code",
      "source": [
        "gold.tail(20)"
      ],
      "metadata": {
        "colab": {
          "base_uri": "https://localhost:8080/",
          "height": 708
        },
        "id": "oys-ozI2Sw6R",
        "outputId": "69ad0f15-e478-432e-91af-c093458a1f0c"
      },
      "execution_count": null,
      "outputs": [
        {
          "output_type": "execute_result",
          "data": {
            "text/plain": [
              "              Open     High     Low   Close  Volume Currency\n",
              "Date                                                        \n",
              "2022-03-23  1926.3  1953.90  1920.7  1942.6   57219      USD\n",
              "2022-03-24  1948.9  1972.50  1942.9  1967.7   71406      USD\n",
              "2022-03-25  1963.2  1970.40  1948.2  1959.8   63343      USD\n",
              "2022-03-28  1962.5  1965.20  1920.7  1944.7  109254      USD\n",
              "2022-03-29  1927.2  1934.40  1893.2  1918.0  214605      USD\n",
              "2022-03-30  1924.0  1943.40  1920.1  1939.0  136041      USD\n",
              "2022-03-31  1937.3  1955.00  1923.0  1954.0  155299      USD\n",
              "2022-04-01  1942.4  1944.50  1921.4  1923.7  135154      USD\n",
              "2022-04-04  1927.1  1941.60  1918.2  1934.0  108435      USD\n",
              "2022-04-05  1937.3  1948.90  1920.9  1927.5  147256      USD\n",
              "2022-04-06  1927.6  1937.60  1916.2  1923.1  153971      USD\n",
              "2022-04-07  1928.1  1941.70  1923.3  1937.8  122809      USD\n",
              "2022-04-08  1934.3  1952.20  1930.4  1945.6  142498      USD\n",
              "2022-04-11  1949.6  1974.60  1942.9  1948.2  184385      USD\n",
              "2022-04-12  1957.4  1982.70  1953.0  1976.1  172386      USD\n",
              "2022-04-13  1970.5  1985.80  1966.3  1984.7  132029      USD\n",
              "2022-04-14  1981.6  1984.00  1962.7  1974.9  139424      USD\n",
              "2022-04-18  1978.5  2003.00  1974.4  1986.4  138130      USD\n",
              "2022-04-19  1981.2  1985.10  1945.5  1959.0  181440      USD\n",
              "2022-04-20  1952.1  1957.35  1941.2  1956.3       0      USD"
            ],
            "text/html": [
              "\n",
              "  <div id=\"df-f6769745-5839-4bd1-b8ff-3d2575409f5c\">\n",
              "    <div class=\"colab-df-container\">\n",
              "      <div>\n",
              "<style scoped>\n",
              "    .dataframe tbody tr th:only-of-type {\n",
              "        vertical-align: middle;\n",
              "    }\n",
              "\n",
              "    .dataframe tbody tr th {\n",
              "        vertical-align: top;\n",
              "    }\n",
              "\n",
              "    .dataframe thead th {\n",
              "        text-align: right;\n",
              "    }\n",
              "</style>\n",
              "<table border=\"1\" class=\"dataframe\">\n",
              "  <thead>\n",
              "    <tr style=\"text-align: right;\">\n",
              "      <th></th>\n",
              "      <th>Open</th>\n",
              "      <th>High</th>\n",
              "      <th>Low</th>\n",
              "      <th>Close</th>\n",
              "      <th>Volume</th>\n",
              "      <th>Currency</th>\n",
              "    </tr>\n",
              "    <tr>\n",
              "      <th>Date</th>\n",
              "      <th></th>\n",
              "      <th></th>\n",
              "      <th></th>\n",
              "      <th></th>\n",
              "      <th></th>\n",
              "      <th></th>\n",
              "    </tr>\n",
              "  </thead>\n",
              "  <tbody>\n",
              "    <tr>\n",
              "      <th>2022-03-23</th>\n",
              "      <td>1926.3</td>\n",
              "      <td>1953.90</td>\n",
              "      <td>1920.7</td>\n",
              "      <td>1942.6</td>\n",
              "      <td>57219</td>\n",
              "      <td>USD</td>\n",
              "    </tr>\n",
              "    <tr>\n",
              "      <th>2022-03-24</th>\n",
              "      <td>1948.9</td>\n",
              "      <td>1972.50</td>\n",
              "      <td>1942.9</td>\n",
              "      <td>1967.7</td>\n",
              "      <td>71406</td>\n",
              "      <td>USD</td>\n",
              "    </tr>\n",
              "    <tr>\n",
              "      <th>2022-03-25</th>\n",
              "      <td>1963.2</td>\n",
              "      <td>1970.40</td>\n",
              "      <td>1948.2</td>\n",
              "      <td>1959.8</td>\n",
              "      <td>63343</td>\n",
              "      <td>USD</td>\n",
              "    </tr>\n",
              "    <tr>\n",
              "      <th>2022-03-28</th>\n",
              "      <td>1962.5</td>\n",
              "      <td>1965.20</td>\n",
              "      <td>1920.7</td>\n",
              "      <td>1944.7</td>\n",
              "      <td>109254</td>\n",
              "      <td>USD</td>\n",
              "    </tr>\n",
              "    <tr>\n",
              "      <th>2022-03-29</th>\n",
              "      <td>1927.2</td>\n",
              "      <td>1934.40</td>\n",
              "      <td>1893.2</td>\n",
              "      <td>1918.0</td>\n",
              "      <td>214605</td>\n",
              "      <td>USD</td>\n",
              "    </tr>\n",
              "    <tr>\n",
              "      <th>2022-03-30</th>\n",
              "      <td>1924.0</td>\n",
              "      <td>1943.40</td>\n",
              "      <td>1920.1</td>\n",
              "      <td>1939.0</td>\n",
              "      <td>136041</td>\n",
              "      <td>USD</td>\n",
              "    </tr>\n",
              "    <tr>\n",
              "      <th>2022-03-31</th>\n",
              "      <td>1937.3</td>\n",
              "      <td>1955.00</td>\n",
              "      <td>1923.0</td>\n",
              "      <td>1954.0</td>\n",
              "      <td>155299</td>\n",
              "      <td>USD</td>\n",
              "    </tr>\n",
              "    <tr>\n",
              "      <th>2022-04-01</th>\n",
              "      <td>1942.4</td>\n",
              "      <td>1944.50</td>\n",
              "      <td>1921.4</td>\n",
              "      <td>1923.7</td>\n",
              "      <td>135154</td>\n",
              "      <td>USD</td>\n",
              "    </tr>\n",
              "    <tr>\n",
              "      <th>2022-04-04</th>\n",
              "      <td>1927.1</td>\n",
              "      <td>1941.60</td>\n",
              "      <td>1918.2</td>\n",
              "      <td>1934.0</td>\n",
              "      <td>108435</td>\n",
              "      <td>USD</td>\n",
              "    </tr>\n",
              "    <tr>\n",
              "      <th>2022-04-05</th>\n",
              "      <td>1937.3</td>\n",
              "      <td>1948.90</td>\n",
              "      <td>1920.9</td>\n",
              "      <td>1927.5</td>\n",
              "      <td>147256</td>\n",
              "      <td>USD</td>\n",
              "    </tr>\n",
              "    <tr>\n",
              "      <th>2022-04-06</th>\n",
              "      <td>1927.6</td>\n",
              "      <td>1937.60</td>\n",
              "      <td>1916.2</td>\n",
              "      <td>1923.1</td>\n",
              "      <td>153971</td>\n",
              "      <td>USD</td>\n",
              "    </tr>\n",
              "    <tr>\n",
              "      <th>2022-04-07</th>\n",
              "      <td>1928.1</td>\n",
              "      <td>1941.70</td>\n",
              "      <td>1923.3</td>\n",
              "      <td>1937.8</td>\n",
              "      <td>122809</td>\n",
              "      <td>USD</td>\n",
              "    </tr>\n",
              "    <tr>\n",
              "      <th>2022-04-08</th>\n",
              "      <td>1934.3</td>\n",
              "      <td>1952.20</td>\n",
              "      <td>1930.4</td>\n",
              "      <td>1945.6</td>\n",
              "      <td>142498</td>\n",
              "      <td>USD</td>\n",
              "    </tr>\n",
              "    <tr>\n",
              "      <th>2022-04-11</th>\n",
              "      <td>1949.6</td>\n",
              "      <td>1974.60</td>\n",
              "      <td>1942.9</td>\n",
              "      <td>1948.2</td>\n",
              "      <td>184385</td>\n",
              "      <td>USD</td>\n",
              "    </tr>\n",
              "    <tr>\n",
              "      <th>2022-04-12</th>\n",
              "      <td>1957.4</td>\n",
              "      <td>1982.70</td>\n",
              "      <td>1953.0</td>\n",
              "      <td>1976.1</td>\n",
              "      <td>172386</td>\n",
              "      <td>USD</td>\n",
              "    </tr>\n",
              "    <tr>\n",
              "      <th>2022-04-13</th>\n",
              "      <td>1970.5</td>\n",
              "      <td>1985.80</td>\n",
              "      <td>1966.3</td>\n",
              "      <td>1984.7</td>\n",
              "      <td>132029</td>\n",
              "      <td>USD</td>\n",
              "    </tr>\n",
              "    <tr>\n",
              "      <th>2022-04-14</th>\n",
              "      <td>1981.6</td>\n",
              "      <td>1984.00</td>\n",
              "      <td>1962.7</td>\n",
              "      <td>1974.9</td>\n",
              "      <td>139424</td>\n",
              "      <td>USD</td>\n",
              "    </tr>\n",
              "    <tr>\n",
              "      <th>2022-04-18</th>\n",
              "      <td>1978.5</td>\n",
              "      <td>2003.00</td>\n",
              "      <td>1974.4</td>\n",
              "      <td>1986.4</td>\n",
              "      <td>138130</td>\n",
              "      <td>USD</td>\n",
              "    </tr>\n",
              "    <tr>\n",
              "      <th>2022-04-19</th>\n",
              "      <td>1981.2</td>\n",
              "      <td>1985.10</td>\n",
              "      <td>1945.5</td>\n",
              "      <td>1959.0</td>\n",
              "      <td>181440</td>\n",
              "      <td>USD</td>\n",
              "    </tr>\n",
              "    <tr>\n",
              "      <th>2022-04-20</th>\n",
              "      <td>1952.1</td>\n",
              "      <td>1957.35</td>\n",
              "      <td>1941.2</td>\n",
              "      <td>1956.3</td>\n",
              "      <td>0</td>\n",
              "      <td>USD</td>\n",
              "    </tr>\n",
              "  </tbody>\n",
              "</table>\n",
              "</div>\n",
              "      <button class=\"colab-df-convert\" onclick=\"convertToInteractive('df-f6769745-5839-4bd1-b8ff-3d2575409f5c')\"\n",
              "              title=\"Convert this dataframe to an interactive table.\"\n",
              "              style=\"display:none;\">\n",
              "        \n",
              "  <svg xmlns=\"http://www.w3.org/2000/svg\" height=\"24px\"viewBox=\"0 0 24 24\"\n",
              "       width=\"24px\">\n",
              "    <path d=\"M0 0h24v24H0V0z\" fill=\"none\"/>\n",
              "    <path d=\"M18.56 5.44l.94 2.06.94-2.06 2.06-.94-2.06-.94-.94-2.06-.94 2.06-2.06.94zm-11 1L8.5 8.5l.94-2.06 2.06-.94-2.06-.94L8.5 2.5l-.94 2.06-2.06.94zm10 10l.94 2.06.94-2.06 2.06-.94-2.06-.94-.94-2.06-.94 2.06-2.06.94z\"/><path d=\"M17.41 7.96l-1.37-1.37c-.4-.4-.92-.59-1.43-.59-.52 0-1.04.2-1.43.59L10.3 9.45l-7.72 7.72c-.78.78-.78 2.05 0 2.83L4 21.41c.39.39.9.59 1.41.59.51 0 1.02-.2 1.41-.59l7.78-7.78 2.81-2.81c.8-.78.8-2.07 0-2.86zM5.41 20L4 18.59l7.72-7.72 1.47 1.35L5.41 20z\"/>\n",
              "  </svg>\n",
              "      </button>\n",
              "      \n",
              "  <style>\n",
              "    .colab-df-container {\n",
              "      display:flex;\n",
              "      flex-wrap:wrap;\n",
              "      gap: 12px;\n",
              "    }\n",
              "\n",
              "    .colab-df-convert {\n",
              "      background-color: #E8F0FE;\n",
              "      border: none;\n",
              "      border-radius: 50%;\n",
              "      cursor: pointer;\n",
              "      display: none;\n",
              "      fill: #1967D2;\n",
              "      height: 32px;\n",
              "      padding: 0 0 0 0;\n",
              "      width: 32px;\n",
              "    }\n",
              "\n",
              "    .colab-df-convert:hover {\n",
              "      background-color: #E2EBFA;\n",
              "      box-shadow: 0px 1px 2px rgba(60, 64, 67, 0.3), 0px 1px 3px 1px rgba(60, 64, 67, 0.15);\n",
              "      fill: #174EA6;\n",
              "    }\n",
              "\n",
              "    [theme=dark] .colab-df-convert {\n",
              "      background-color: #3B4455;\n",
              "      fill: #D2E3FC;\n",
              "    }\n",
              "\n",
              "    [theme=dark] .colab-df-convert:hover {\n",
              "      background-color: #434B5C;\n",
              "      box-shadow: 0px 1px 3px 1px rgba(0, 0, 0, 0.15);\n",
              "      filter: drop-shadow(0px 1px 2px rgba(0, 0, 0, 0.3));\n",
              "      fill: #FFFFFF;\n",
              "    }\n",
              "  </style>\n",
              "\n",
              "      <script>\n",
              "        const buttonEl =\n",
              "          document.querySelector('#df-f6769745-5839-4bd1-b8ff-3d2575409f5c button.colab-df-convert');\n",
              "        buttonEl.style.display =\n",
              "          google.colab.kernel.accessAllowed ? 'block' : 'none';\n",
              "\n",
              "        async function convertToInteractive(key) {\n",
              "          const element = document.querySelector('#df-f6769745-5839-4bd1-b8ff-3d2575409f5c');\n",
              "          const dataTable =\n",
              "            await google.colab.kernel.invokeFunction('convertToInteractive',\n",
              "                                                     [key], {});\n",
              "          if (!dataTable) return;\n",
              "\n",
              "          const docLinkHtml = 'Like what you see? Visit the ' +\n",
              "            '<a target=\"_blank\" href=https://colab.research.google.com/notebooks/data_table.ipynb>data table notebook</a>'\n",
              "            + ' to learn more about interactive tables.';\n",
              "          element.innerHTML = '';\n",
              "          dataTable['output_type'] = 'display_data';\n",
              "          await google.colab.output.renderOutput(dataTable, element);\n",
              "          const docLink = document.createElement('div');\n",
              "          docLink.innerHTML = docLinkHtml;\n",
              "          element.appendChild(docLink);\n",
              "        }\n",
              "      </script>\n",
              "    </div>\n",
              "  </div>\n",
              "  "
            ]
          },
          "metadata": {},
          "execution_count": 27
        }
      ]
    },
    {
      "cell_type": "code",
      "source": [
        "gold.dtypes"
      ],
      "metadata": {
        "colab": {
          "base_uri": "https://localhost:8080/"
        },
        "id": "2hVV-KWvS2VK",
        "outputId": "abed0278-61e1-4b12-caca-7bc1706b1963"
      },
      "execution_count": null,
      "outputs": [
        {
          "output_type": "execute_result",
          "data": {
            "text/plain": [
              "Open        float64\n",
              "High        float64\n",
              "Low         float64\n",
              "Close       float64\n",
              "Volume        int64\n",
              "Currency     object\n",
              "dtype: object"
            ]
          },
          "metadata": {},
          "execution_count": 28
        }
      ]
    },
    {
      "cell_type": "code",
      "source": [
        "gold.shape"
      ],
      "metadata": {
        "colab": {
          "base_uri": "https://localhost:8080/"
        },
        "id": "Knu_iI1MTkqK",
        "outputId": "b43719b1-6908-424d-f495-8e1db2da84a8"
      },
      "execution_count": null,
      "outputs": [
        {
          "output_type": "execute_result",
          "data": {
            "text/plain": [
              "(5706, 6)"
            ]
          },
          "metadata": {},
          "execution_count": 29
        }
      ]
    },
    {
      "cell_type": "code",
      "source": [
        "gold.columns"
      ],
      "metadata": {
        "colab": {
          "base_uri": "https://localhost:8080/"
        },
        "id": "1z5jS7rgT1cT",
        "outputId": "35e7fba0-a3e2-44f6-9967-4cac24d6047c"
      },
      "execution_count": null,
      "outputs": [
        {
          "output_type": "execute_result",
          "data": {
            "text/plain": [
              "Index(['Open', 'High', 'Low', 'Close', 'Volume', 'Currency'], dtype='object')"
            ]
          },
          "metadata": {},
          "execution_count": 30
        }
      ]
    },
    {
      "cell_type": "code",
      "source": [
        "gold.describe()"
      ],
      "metadata": {
        "colab": {
          "base_uri": "https://localhost:8080/",
          "height": 300
        },
        "id": "6qXuoQKDT9jW",
        "outputId": "b553c17f-f462-4e56-d40a-7f94a69f0272"
      },
      "execution_count": null,
      "outputs": [
        {
          "output_type": "execute_result",
          "data": {
            "text/plain": [
              "              Open         High          Low        Close         Volume\n",
              "count  5706.000000  5706.000000  5706.000000  5706.000000    5706.000000\n",
              "mean   1051.334064  1055.134048  1047.209294  1061.702755    1691.543113\n",
              "std     522.375070   524.396437   520.115979   528.987793   10821.666938\n",
              "min     255.000000   255.000000   255.000000   255.100000       0.000000\n",
              "25%     462.850000   462.850000   462.150000   462.650000       5.000000\n",
              "50%    1223.050000  1226.950000  1217.300000  1238.650000      56.000000\n",
              "75%    1407.475000  1410.975000  1405.300000  1449.375000     243.000000\n",
              "max    2121.700000  2121.700000  2121.700000  2122.700000  214605.000000"
            ],
            "text/html": [
              "\n",
              "  <div id=\"df-65676ed2-7114-4051-b98b-f729295fd576\">\n",
              "    <div class=\"colab-df-container\">\n",
              "      <div>\n",
              "<style scoped>\n",
              "    .dataframe tbody tr th:only-of-type {\n",
              "        vertical-align: middle;\n",
              "    }\n",
              "\n",
              "    .dataframe tbody tr th {\n",
              "        vertical-align: top;\n",
              "    }\n",
              "\n",
              "    .dataframe thead th {\n",
              "        text-align: right;\n",
              "    }\n",
              "</style>\n",
              "<table border=\"1\" class=\"dataframe\">\n",
              "  <thead>\n",
              "    <tr style=\"text-align: right;\">\n",
              "      <th></th>\n",
              "      <th>Open</th>\n",
              "      <th>High</th>\n",
              "      <th>Low</th>\n",
              "      <th>Close</th>\n",
              "      <th>Volume</th>\n",
              "    </tr>\n",
              "  </thead>\n",
              "  <tbody>\n",
              "    <tr>\n",
              "      <th>count</th>\n",
              "      <td>5706.000000</td>\n",
              "      <td>5706.000000</td>\n",
              "      <td>5706.000000</td>\n",
              "      <td>5706.000000</td>\n",
              "      <td>5706.000000</td>\n",
              "    </tr>\n",
              "    <tr>\n",
              "      <th>mean</th>\n",
              "      <td>1051.334064</td>\n",
              "      <td>1055.134048</td>\n",
              "      <td>1047.209294</td>\n",
              "      <td>1061.702755</td>\n",
              "      <td>1691.543113</td>\n",
              "    </tr>\n",
              "    <tr>\n",
              "      <th>std</th>\n",
              "      <td>522.375070</td>\n",
              "      <td>524.396437</td>\n",
              "      <td>520.115979</td>\n",
              "      <td>528.987793</td>\n",
              "      <td>10821.666938</td>\n",
              "    </tr>\n",
              "    <tr>\n",
              "      <th>min</th>\n",
              "      <td>255.000000</td>\n",
              "      <td>255.000000</td>\n",
              "      <td>255.000000</td>\n",
              "      <td>255.100000</td>\n",
              "      <td>0.000000</td>\n",
              "    </tr>\n",
              "    <tr>\n",
              "      <th>25%</th>\n",
              "      <td>462.850000</td>\n",
              "      <td>462.850000</td>\n",
              "      <td>462.150000</td>\n",
              "      <td>462.650000</td>\n",
              "      <td>5.000000</td>\n",
              "    </tr>\n",
              "    <tr>\n",
              "      <th>50%</th>\n",
              "      <td>1223.050000</td>\n",
              "      <td>1226.950000</td>\n",
              "      <td>1217.300000</td>\n",
              "      <td>1238.650000</td>\n",
              "      <td>56.000000</td>\n",
              "    </tr>\n",
              "    <tr>\n",
              "      <th>75%</th>\n",
              "      <td>1407.475000</td>\n",
              "      <td>1410.975000</td>\n",
              "      <td>1405.300000</td>\n",
              "      <td>1449.375000</td>\n",
              "      <td>243.000000</td>\n",
              "    </tr>\n",
              "    <tr>\n",
              "      <th>max</th>\n",
              "      <td>2121.700000</td>\n",
              "      <td>2121.700000</td>\n",
              "      <td>2121.700000</td>\n",
              "      <td>2122.700000</td>\n",
              "      <td>214605.000000</td>\n",
              "    </tr>\n",
              "  </tbody>\n",
              "</table>\n",
              "</div>\n",
              "      <button class=\"colab-df-convert\" onclick=\"convertToInteractive('df-65676ed2-7114-4051-b98b-f729295fd576')\"\n",
              "              title=\"Convert this dataframe to an interactive table.\"\n",
              "              style=\"display:none;\">\n",
              "        \n",
              "  <svg xmlns=\"http://www.w3.org/2000/svg\" height=\"24px\"viewBox=\"0 0 24 24\"\n",
              "       width=\"24px\">\n",
              "    <path d=\"M0 0h24v24H0V0z\" fill=\"none\"/>\n",
              "    <path d=\"M18.56 5.44l.94 2.06.94-2.06 2.06-.94-2.06-.94-.94-2.06-.94 2.06-2.06.94zm-11 1L8.5 8.5l.94-2.06 2.06-.94-2.06-.94L8.5 2.5l-.94 2.06-2.06.94zm10 10l.94 2.06.94-2.06 2.06-.94-2.06-.94-.94-2.06-.94 2.06-2.06.94z\"/><path d=\"M17.41 7.96l-1.37-1.37c-.4-.4-.92-.59-1.43-.59-.52 0-1.04.2-1.43.59L10.3 9.45l-7.72 7.72c-.78.78-.78 2.05 0 2.83L4 21.41c.39.39.9.59 1.41.59.51 0 1.02-.2 1.41-.59l7.78-7.78 2.81-2.81c.8-.78.8-2.07 0-2.86zM5.41 20L4 18.59l7.72-7.72 1.47 1.35L5.41 20z\"/>\n",
              "  </svg>\n",
              "      </button>\n",
              "      \n",
              "  <style>\n",
              "    .colab-df-container {\n",
              "      display:flex;\n",
              "      flex-wrap:wrap;\n",
              "      gap: 12px;\n",
              "    }\n",
              "\n",
              "    .colab-df-convert {\n",
              "      background-color: #E8F0FE;\n",
              "      border: none;\n",
              "      border-radius: 50%;\n",
              "      cursor: pointer;\n",
              "      display: none;\n",
              "      fill: #1967D2;\n",
              "      height: 32px;\n",
              "      padding: 0 0 0 0;\n",
              "      width: 32px;\n",
              "    }\n",
              "\n",
              "    .colab-df-convert:hover {\n",
              "      background-color: #E2EBFA;\n",
              "      box-shadow: 0px 1px 2px rgba(60, 64, 67, 0.3), 0px 1px 3px 1px rgba(60, 64, 67, 0.15);\n",
              "      fill: #174EA6;\n",
              "    }\n",
              "\n",
              "    [theme=dark] .colab-df-convert {\n",
              "      background-color: #3B4455;\n",
              "      fill: #D2E3FC;\n",
              "    }\n",
              "\n",
              "    [theme=dark] .colab-df-convert:hover {\n",
              "      background-color: #434B5C;\n",
              "      box-shadow: 0px 1px 3px 1px rgba(0, 0, 0, 0.15);\n",
              "      filter: drop-shadow(0px 1px 2px rgba(0, 0, 0, 0.3));\n",
              "      fill: #FFFFFF;\n",
              "    }\n",
              "  </style>\n",
              "\n",
              "      <script>\n",
              "        const buttonEl =\n",
              "          document.querySelector('#df-65676ed2-7114-4051-b98b-f729295fd576 button.colab-df-convert');\n",
              "        buttonEl.style.display =\n",
              "          google.colab.kernel.accessAllowed ? 'block' : 'none';\n",
              "\n",
              "        async function convertToInteractive(key) {\n",
              "          const element = document.querySelector('#df-65676ed2-7114-4051-b98b-f729295fd576');\n",
              "          const dataTable =\n",
              "            await google.colab.kernel.invokeFunction('convertToInteractive',\n",
              "                                                     [key], {});\n",
              "          if (!dataTable) return;\n",
              "\n",
              "          const docLinkHtml = 'Like what you see? Visit the ' +\n",
              "            '<a target=\"_blank\" href=https://colab.research.google.com/notebooks/data_table.ipynb>data table notebook</a>'\n",
              "            + ' to learn more about interactive tables.';\n",
              "          element.innerHTML = '';\n",
              "          dataTable['output_type'] = 'display_data';\n",
              "          await google.colab.output.renderOutput(dataTable, element);\n",
              "          const docLink = document.createElement('div');\n",
              "          docLink.innerHTML = docLinkHtml;\n",
              "          element.appendChild(docLink);\n",
              "        }\n",
              "      </script>\n",
              "    </div>\n",
              "  </div>\n",
              "  "
            ]
          },
          "metadata": {},
          "execution_count": 31
        }
      ]
    },
    {
      "cell_type": "code",
      "source": [
        "gold.info"
      ],
      "metadata": {
        "colab": {
          "base_uri": "https://localhost:8080/"
        },
        "id": "ER-nJfnxUGUh",
        "outputId": "4858b7af-4382-49ab-9e84-1547be365a73"
      },
      "execution_count": null,
      "outputs": [
        {
          "output_type": "execute_result",
          "data": {
            "text/plain": [
              "<bound method DataFrame.info of               Open     High     Low   Close  Volume Currency\n",
              "Date                                                        \n",
              "2000-01-04   281.0   281.00   281.0   282.7       4      USD\n",
              "2000-01-05   283.2   283.20   283.2   281.1      16      USD\n",
              "2000-01-06   281.4   281.40   281.4   281.4       0      USD\n",
              "2000-01-07   281.9   281.90   281.9   281.9       0      USD\n",
              "2000-01-10   281.7   281.70   281.7   281.7       0      USD\n",
              "...            ...      ...     ...     ...     ...      ...\n",
              "2022-04-13  1970.5  1985.80  1966.3  1984.7  132029      USD\n",
              "2022-04-14  1981.6  1984.00  1962.7  1974.9  139424      USD\n",
              "2022-04-18  1978.5  2003.00  1974.4  1986.4  138130      USD\n",
              "2022-04-19  1981.2  1985.10  1945.5  1959.0  181440      USD\n",
              "2022-04-20  1952.1  1957.35  1941.2  1956.3       0      USD\n",
              "\n",
              "[5706 rows x 6 columns]>"
            ]
          },
          "metadata": {},
          "execution_count": 32
        }
      ]
    },
    {
      "cell_type": "code",
      "source": [
        "import datetime as dt\n",
        "import matplotlib.pyplot as plt\n",
        "import matplotlib.dates as mdates"
      ],
      "metadata": {
        "id": "ITH-4i9L72AV"
      },
      "execution_count": null,
      "outputs": []
    },
    {
      "cell_type": "code",
      "source": [
        "data_path = '/content/drive/MyDrive/Colab Notebooks/gold.csv'\n",
        "df = pd.read_csv(data_path, parse_dates=['Date'], date_parser=lambda x: pd.to_datetime(x, format='%Y-%m-%d') )"
      ],
      "metadata": {
        "id": "R3ZDeJFm68cM"
      },
      "execution_count": null,
      "outputs": []
    },
    {
      "cell_type": "code",
      "source": [
        "df.set_index('Date', inplace=True)"
      ],
      "metadata": {
        "id": "9WB92ZSN7FTy"
      },
      "execution_count": null,
      "outputs": []
    },
    {
      "cell_type": "code",
      "source": [
        "fig, ax = plt.subplots(figsize=(28, 8))\n",
        "ax.plot(df.index, df.Open)\n",
        "ax.plot(df.index, df.Close)\n",
        "ax.plot(df.index, df.High)\n",
        "ax.plot(df.index, df.Low)\n",
        "ax.xaxis.set_major_formatter(mdates.DateFormatter('%Y'))\n",
        "ax.xaxis.set_major_locator(mdates.YearLocator())\n",
        "plt.title('Gold')\n",
        "ax.grid()\n",
        "plt.show()"
      ],
      "metadata": {
        "colab": {
          "base_uri": "https://localhost:8080/",
          "height": 499
        },
        "id": "Tkl7fzU87u4Q",
        "outputId": "5740eaab-b3ff-49e1-d70f-fcf5bd8a24ee"
      },
      "execution_count": null,
      "outputs": [
        {
          "output_type": "display_data",
          "data": {
            "text/plain": [
              "<Figure size 2016x576 with 1 Axes>"
            ],
            "image/png": "[encoded data removed]"
          },
          "metadata": {
            "needs_background": "light"
          }
        }
      ]
    },
    {
      "cell_type": "code",
      "source": [
        "fig, ax = plt.subplots(figsize=(28, 8))\n",
        "ax.plot(df.index, df.Volume)\n",
        "ax.xaxis.set_major_formatter(mdates.DateFormatter('%Y'))\n",
        "ax.xaxis.set_major_locator(mdates.YearLocator())\n",
        "plt.title('Gold')\n",
        "ax.grid()\n",
        "plt.show()"
      ],
      "metadata": {
        "colab": {
          "base_uri": "https://localhost:8080/",
          "height": 499
        },
        "id": "MPhWj1brbOhQ",
        "outputId": "5fb0e255-68b5-4a03-aaf2-2fffb074a064"
      },
      "execution_count": null,
      "outputs": [
        {
          "output_type": "display_data",
          "data": {
            "text/plain": [
              "<Figure size 2016x576 with 1 Axes>"
            ],
            "image/png": "[encoded data removed]"
          },
          "metadata": {
            "needs_background": "light"
          }
        }
      ]
    },
    {
      "cell_type": "markdown",
      "source": [
        "# Hồi quy tuyến tính với phương pháp OLS (Ordinary Least Square- Bình phương bé nhất)\n",
        "\n"
      ],
      "metadata": {
        "id": "QfLhDy_zUgPU"
      }
    },
    {
      "cell_type": "code",
      "source": [
        "from sklearn.model_selection import train_test_split\n",
        "from sklearn.linear_model import LinearRegression\n",
        "from sklearn.metrics import r2_score, mean_absolute_error, mean_squared_error, mean_absolute_percentage_error"
      ],
      "metadata": {
        "id": "WFkA4zVbUZQR"
      },
      "execution_count": null,
      "outputs": []
    },
    {
      "cell_type": "code",
      "source": [
        "gold_df = gold.iloc[0:1500]\n",
        "print((gold_df.describe()).transpose())"
      ],
      "metadata": {
        "colab": {
          "base_uri": "https://localhost:8080/"
        },
        "id": "SIneBCoBrlrP",
        "outputId": "93db519b-755d-4542-bb2f-68edacf5ec65"
      },
      "execution_count": null,
      "outputs": [
        {
          "output_type": "stream",
          "name": "stdout",
          "text": [
            "         count        mean          std    min      25%     50%      75%  \\\n",
            "Open    1500.0  347.587933    69.016492  255.0  280.000  330.95  409.025   \n",
            "High    1500.0  348.536067    69.305142  255.0  280.500  332.95  410.425   \n",
            "Low     1500.0  346.733133    68.702342  255.0  279.575  329.90  407.925   \n",
            "Close   1500.0  347.684867    69.011606  255.1  280.100  331.50  409.125   \n",
            "Volume  1500.0  766.540000  4252.413535    0.0    0.000   10.00  117.250   \n",
            "\n",
            "            max  \n",
            "Open      549.1  \n",
            "High      549.1  \n",
            "Low       549.1  \n",
            "Close     549.1  \n",
            "Volume  56709.0  \n"
          ]
        }
      ]
    },
    {
      "cell_type": "code",
      "source": [
        "predictors = ['High','Low','Close','Volume']\n",
        "outcome = 'Open'\n",
        "vars = np.concatenate((predictors, [outcome]), axis = 0)\n",
        "X = gold_df[predictors]\n",
        "Y = gold_df[outcome]\n",
        "train_X, valid_X, train_Y, valid_Y = train_test_split(X, Y, test_size = 0.4, random_state = 1)\n",
        "gold_lm = LinearRegression()\n",
        "gold_lm.fit(train_X, train_Y)\n",
        "yfit = gold_lm.predict(train_X)\n",
        "r2 = r2_score(train_Y, yfit)\n",
        "print('Giá trị R^2 =', r2)\n",
        "print('Các giá trị hệ số hồi quy riêng phần của biến X')\n",
        "print(pd.DataFrame({'Predictor': X.columns, 'coefficient': gold_lm.coef_}))\n",
        "print('Intercetp', gold_lm.intercept_)"
      ],
      "metadata": {
        "colab": {
          "base_uri": "https://localhost:8080/"
        },
        "id": "f4H5YukrvaX3",
        "outputId": "9f92462c-334e-4238-bb59-7d1af5e7f557"
      },
      "execution_count": null,
      "outputs": [
        {
          "output_type": "stream",
          "name": "stdout",
          "text": [
            "Giá trị R^2 = 0.9997196955219576\n",
            "Các giá trị hệ số hồi quy riêng phần của biến X\n",
            "  Predictor  coefficient\n",
            "0      High     0.709969\n",
            "1       Low     0.818004\n",
            "2     Close    -0.527261\n",
            "3    Volume     0.000005\n",
            "Intercetp -0.18588905494351593\n"
          ]
        }
      ]
    },
    {
      "cell_type": "code",
      "source": [
        "yfit = gold_lm.predict(train_X)\n",
        "MAE = mean_absolute_error(train_Y, yfit)\n",
        "MSE = mean_squared_error(train_Y, yfit)\n",
        "RMSE = np.sqrt(MSE)\n",
        "MAPE = mean_absolute_percentage_error(train_Y, yfit)\n",
        "print(MAE, RMSE, MAPE)"
      ],
      "metadata": {
        "colab": {
          "base_uri": "https://localhost:8080/"
        },
        "id": "2G0QwTfQy3Gd",
        "outputId": "0f2a410c-be5a-41e6-cf14-7ea842e49366"
      },
      "execution_count": null,
      "outputs": [
        {
          "output_type": "stream",
          "name": "stdout",
          "text": [
            "0.6578830403322763 1.16408778301998 0.0018579466665889005\n"
          ]
        }
      ]
    },
    {
      "cell_type": "code",
      "source": [
        "yfit_test = gold_lm.predict(valid_X)\n",
        "MAE = mean_absolute_error(valid_Y, yfit_test)\n",
        "RMSE = np.sqrt(mean_squared_error(valid_Y, yfit_test))\n",
        "MAPE = mean_absolute_percentage_error(valid_Y, yfit_test)\n",
        "print(MAE, RMSE, MAPE)"
      ],
      "metadata": {
        "colab": {
          "base_uri": "https://localhost:8080/"
        },
        "id": "dBxC3spD1tgH",
        "outputId": "e5ebdae2-b3ca-42a9-be0e-17007b4446a3"
      },
      "execution_count": null,
      "outputs": [
        {
          "output_type": "stream",
          "name": "stdout",
          "text": [
            "0.6152744396264567 1.0548027975120173 0.0017633375604325934\n"
          ]
        }
      ]
    },
    {
      "cell_type": "markdown",
      "source": [
        "# Hồi quy tuyến tính với giải thuật giảm độ dốc"
      ],
      "metadata": {
        "id": "KhASyuYyzet1"
      }
    },
    {
      "cell_type": "code",
      "source": [
        "import pandas as pd\n",
        "import numpy as np\n",
        "from sklearn.linear_model import SGDRegressor\n",
        "from sklearn.pipeline import make_pipeline\n",
        "from sklearn.preprocessing import StandardScaler\n",
        "from sklearn.metrics import r2_score, mean_absolute_percentage_error, mean_squared_error, mean_absolute_error"
      ],
      "metadata": {
        "id": "Eyn4071Y7BPv"
      },
      "execution_count": null,
      "outputs": []
    },
    {
      "cell_type": "code",
      "source": [
        "reg = make_pipeline(StandardScaler(), SGDRegressor(max_iter = 100000, tol = 0.001))\n",
        "reg.fit(train_X, train_Y)\n",
        "yfit = reg.predict(train_X)\n",
        "r2 = r2_score(train_Y, yfit)\n",
        "print('Giá trị R^2 =', r2)\n",
        "regressor = reg.steps[1][1]\n",
        "print(pd.DataFrame({'Predictor': X.columns, 'coefficient': regressor.coef_}))\n",
        "print('intercept:', regressor.intercept_)"
      ],
      "metadata": {
        "colab": {
          "base_uri": "https://localhost:8080/"
        },
        "id": "lPJhEtMZ7DVD",
        "outputId": "ccb0c292-3099-412d-ec2f-69888c57f03c"
      },
      "execution_count": null,
      "outputs": [
        {
          "output_type": "stream",
          "name": "stdout",
          "text": [
            "Giá trị R^2 = 0.999386090523579\n",
            "  Predictor  coefficient\n",
            "0      High    23.425746\n",
            "1       Low    23.264563\n",
            "2     Close    22.853547\n",
            "3    Volume    -0.011350\n",
            "intercept: [348.9919705]\n"
          ]
        }
      ]
    },
    {
      "cell_type": "code",
      "source": [
        "MAE = mean_absolute_error(train_Y, yfit)\n",
        "RMSE = np.sqrt(mean_squared_error(train_Y, yfit))\n",
        "MAPE = mean_absolute_percentage_error(train_Y, yfit)\n",
        "print('Các chỉ số đánh giá:', MAE, RMSE, MAPE)"
      ],
      "metadata": {
        "colab": {
          "base_uri": "https://localhost:8080/"
        },
        "id": "ebm1FCdn_uEv",
        "outputId": "2f4464c3-a39e-444e-85da-0174880453d7"
      },
      "execution_count": null,
      "outputs": [
        {
          "output_type": "stream",
          "name": "stdout",
          "text": [
            "Các chỉ số đánh giá: 0.9014857149549097 1.722752473144239 0.0025388618490388174\n"
          ]
        }
      ]
    },
    {
      "cell_type": "code",
      "source": [
        "MAE = mean_absolute_error(valid_Y, yfit_test)\n",
        "RMSE = np.sqrt(mean_squared_error(valid_Y, yfit_test))\n",
        "MAPE = mean_absolute_percentage_error(valid_Y, yfit_test)\n",
        "print(MAE, RMSE, MAPE)"
      ],
      "metadata": {
        "colab": {
          "base_uri": "https://localhost:8080/"
        },
        "id": "by0chmBo_1iK",
        "outputId": "2f6b48bf-ab59-46b1-91b9-3153fbe148a6"
      },
      "execution_count": null,
      "outputs": [
        {
          "output_type": "stream",
          "name": "stdout",
          "text": [
            "0.6152744396264567 1.0548027975120173 0.0017633375604325934\n"
          ]
        }
      ]
    }
  ]
}
